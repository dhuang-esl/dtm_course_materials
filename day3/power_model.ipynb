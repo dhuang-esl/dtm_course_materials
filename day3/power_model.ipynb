{
 "cells": [
  {
   "attachments": {},
   "cell_type": "markdown",
   "metadata": {},
   "source": [
    "# gem5-X tutorial\n"
   ]
  },
  {
   "attachments": {},
   "cell_type": "markdown",
   "metadata": {},
   "source": [
    "\n",
    "## Setting up and building gem5-X\n",
    "The gem5-X is already configured and built in the VM. If you want to build it from scratch, you can follow the instructions in the [gem5-X repository](https://github.com/gem5-X/gem5-X)\n"
   ]
  },
  {
   "attachments": {},
   "cell_type": "markdown",
   "metadata": {},
   "source": [
    "\n",
    "## Running your first gem5-X simulation\n",
    "\n",
    "The gem5-X enviromnet is created and configured with the provide docker image and container, and the container is alredy built in the VM, called gem5x-container.\n",
    "But if want to create the docker container from scratch, you can use the follow command to create the container and share the local files between the docker container and the host.\n",
    "\n",
    "```\n",
    "docker run --name gem5x-container -it -v /home/student/Documents/gem5-X:/app gem5x\n",
    "```\n",
    "\n",
    "Run the follow commnad to start the gem5x container\n",
    "```\n",
    "docker start gem5x-container\n",
    "```\n",
    "\n",
    "and attach to the container with the follow command\n",
    "```\n",
    "docker exec -it gem5x-container bash\n",
    "```\n",
    "\n",
    "Now you are inside the container, and you can run the gem5-X simulation with the follow command\n",
    "```\n",
    "cd app/scripts/\n",
    "bash ex1_runGem5-X.sh\n",
    "```\n",
    "\n",
    "Now open another terminal and run the follow command to connect to the gem5-X terminal\n",
    "``` \n",
    "docker exec -it gem5x-container bash\n",
    "./app/gem5-X/util/term/m5term 127.0.0.1 3456\n",
    "```\n",
    "You can see the ubuntu is booting. However, this can take 10 to 20 minutes to complete. We will skip this process by using the checkpointing feature of gem5-X.\n",
    "\n"
   ]
  },
  {
   "attachments": {},
   "cell_type": "markdown",
   "metadata": {},
   "source": [
    "\n",
    "## Using gem5-X’s checkpointing feature\n",
    "\n",
    "A checkpoint in gem5-X captures the entire state of the simulated system at a specific point in time, including the register values, memory contents, cache state, and microarchitectural details. It allows users to save the state of a running simulation and later restore it to continue execution from the exact same point. This is particularly useful for debugging, performance analysis, and experimentation purposes.\n",
    "\n",
    "```\n",
    "<!-- Stop the previous simulation first, then -->\n",
    "bash ex2_runGem5-X-checkpoint.sh\n",
    "<!-- connect to the m5term  -->\n",
    "```\n",
    "\n",
    "Now you can see the ubuntu is already booted. It is a full function ubuntu thanks to the full systm simulation with gem5-X. For example, you can run \"ls\" and the \"hello world\" program in the terminal.\n",
    "\n",
    "To save your own checkpoint, you can use the following command. \n",
    "```\n",
    "m5 checkpoint\n",
    "```\n"
   ]
  },
  {
   "attachments": {},
   "cell_type": "markdown",
   "metadata": {},
   "source": [
    "\n",
    "## Profiling the target application\n",
    "\n",
    "We have already put a simple application (sum_bench) in the gem5-X environment, and you can run the follow command to run and profile the application\n",
    "```\n",
    "m5 resetstats; ./sum_bench 2000000; m5 dumpstats\n",
    "```\n",
    "\n",
    "It may take 1 or 2 minites based on your machine. Now, let's check the output results in stat.txt\n"
   ]
  },
  {
   "attachments": {},
   "cell_type": "markdown",
   "metadata": {},
   "source": [
    "## Power modeling\n",
    "\n"
   ]
  },
  {
   "cell_type": "code",
   "execution_count": null,
   "metadata": {},
   "outputs": [],
   "source": [
    "# %%\n",
    "import pandas as pd\n",
    "#%%\n",
    "def parse_stat_file(filename):\n",
    "    data = {}\n",
    "    with open(filename, 'r') as file:\n",
    "        for line in file:\n",
    "            line = line.strip()\n",
    "            if line.startswith('-') or not line:\n",
    "                continue\n",
    "            key, value = line.split('#')[0].split()[0:2]\n",
    "            try:\n",
    "                value = int(value)\n",
    "            except ValueError:\n",
    "                value = float(value)\n",
    "            data[key] = value\n",
    "    return data\n",
    "\n",
    "def energy_consumption(power_model, parsed_data, freq_run, llc_size):\n",
    "    power_loc=power_model.loc[power_model['Freq'] == freq_run].index[0]\n",
    "\n",
    "    num_cycles=parsed_data['system.cpu.numCycles']\n",
    "    idle_cycles=parsed_data['system.cpu.num_idle_cycles']\n",
    "\n",
    "    energy_active=(num_cycles-idle_cycles)*power_model['CoreActive'][power_loc]*10e-12\n",
    "\n",
    "    energy_idle=idle_cycles*power_model['CoreIdle'][power_loc]*10e-12\n",
    "\n",
    "    energy_static=num_cycles*power_model['CoreStatic'][power_loc]*10e-12\n",
    "\n",
    "    llc_read = parsed_data['system.l2.ReadReq_hits::total']+\\\n",
    "        parsed_data['system.l2.ReadExReq_hits::total']+\\\n",
    "        parsed_data['system.l2.ReadCleanReq_hits::total']+\\\n",
    "        parsed_data['system.l2.ReadSharedReq_hits::total']\n",
    "    \n",
    "    energy_llc_read=llc_read*power_model['LLCRead'][power_loc]*10e-12\n",
    "\n",
    "    llc_write = parsed_data['system.l2.WritebackDirty_hits::total']+\\\n",
    "        parsed_data['system.l2.WritebackClean_hits::total']+\\\n",
    "        parsed_data['system.l2.WriteClean_hits::total']\n",
    "    \n",
    "    energy_llc_write=llc_write*power_model['LLCWrite'][power_loc]*10e-12\n",
    "\n",
    "    energy_llc_leak=num_cycles*llc_size*power_model['LLCStatic'][power_loc]*10e-12\n",
    "\n",
    "    total_energy=energy_active+energy_idle+energy_static+energy_llc_read+energy_llc_write+energy_llc_leak\n",
    "    \n",
    "    return total_energy"
   ]
  },
  {
   "cell_type": "code",
   "execution_count": null,
   "metadata": {},
   "outputs": [],
   "source": [
    "# Load the pwoer model csv file\n",
    "power_model = pd.read_csv('power_model.csv', sep=',', header=0)\n",
    "# Parse the stats file\n",
    "filename = 'stats.txt'  # Replace with the actual filename\n",
    "parsed_data = parse_stat_file(filename)\n",
    "\n",
    "freq_run=1005\n",
    "llc_size=1\n",
    "energy = energy_consumption(power_model, parsed_data, freq_run, llc_size)\n",
    "print(\"Consumed enegy:\", energy)"
   ]
  },
  {
   "attachments": {},
   "cell_type": "markdown",
   "metadata": {},
   "source": [
    "\n",
    "## Modifying the hardware configuration\n",
    "Checkpoint is very useful when you only want to change the configurations of the hardware. For instance, let's change the frequency of the CPU. \n",
    "\n",
    "```\n",
    "<!-- Stop the previous simulation first, then -->\n",
    "bash ex3_runGem5-X-checkpoint.sh\n",
    "<!-- connect to the m5term  -->\n",
    "```\n",
    "Exercises:\n",
    "1. Select 10 different frequency point, and run the sum_bench application on each frequency point. Record the execution time and energy consumption.\n",
    "2. Fix the CPU frequency at 1.005GHz, change the cache size to investigate the possible execution time and energy impacts.\n"
   ]
  },
  {
   "attachments": {},
   "cell_type": "markdown",
   "metadata": {},
   "source": [
    "\n",
    "## Modify the image with chroot\n",
    "\n",
    "It's also possible to run your own benchmark in the gem5-X environment. You need to first put the target application and benchmakr inside the ubuntu image first. You can use the chroot command to do that.\n",
    "\n",
    "```\n",
    "<!-- Inside the VM, not the docker container -->\n",
    "cd /home/student/Documents/gem5-X/gem5-X/full_system_images/disks\n",
    "sudo mount -o loop,offset=$((2048*512)) gem5_ubuntu16.img local_mnt\n",
    "sudo mount -o bind /proc local_mnt/proc\n",
    "sudo mount -o bind /dev local_mnt/dev\n",
    "sudo mount -o bind /dev/pts local_mnt/dev/pts\n",
    "sudo mount -o bind /sys local_mnt/sys\n",
    "\n",
    "cd local_mnt/\n",
    "sudo chroot ./ \n",
    "```\n",
    "Once it is finished, exit and umount the image\n",
    "```\n",
    "exit or ctrl+d\n",
    "\n",
    "cd ..\n",
    "sudo umount local_mnt/proc\n",
    "sudo umount local_mnt/dev/pts\n",
    "sudo umount local_mnt/dev\n",
    "sudo umount local_mnt/sys\n",
    "sudo umount local_mnt\n",
    "\n",
    "```\n",
    "\n",
    "Note that you need to boot the image with gem5-X from scratch (without using checkpoint) when you change the image."
   ]
  }
 ],
 "metadata": {
  "kernelspec": {
   "display_name": "base",
   "language": "python",
   "name": "python3"
  },
  "language_info": {
   "codemirror_mode": {
    "name": "ipython",
    "version": 3
   },
   "file_extension": ".py",
   "mimetype": "text/x-python",
   "name": "python",
   "nbconvert_exporter": "python",
   "pygments_lexer": "ipython3",
   "version": "3.9.12"
  },
  "orig_nbformat": 4
 },
 "nbformat": 4,
 "nbformat_minor": 2
}
