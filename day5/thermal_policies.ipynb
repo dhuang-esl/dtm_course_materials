{
 "cells": [
  {
   "attachments": {},
   "cell_type": "markdown",
   "metadata": {},
   "source": [
    "# Exercises on thermal policies\n",
    "Combine both gem5-X, power model, and 3D-ICE"
   ]
  },
  {
   "attachments": {},
   "cell_type": "markdown",
   "metadata": {},
   "source": [
    "## Simple thermal policy with frequency scaling"
   ]
  },
  {
   "attachments": {},
   "cell_type": "markdown",
   "metadata": {},
   "source": [
    "1. Run 3D-ICE with given power trace @ x GHz\n",
    "2. Plot the temperature trace\n",
    "3. Check if the temperature is within the safe range\n",
    "4. Lower down the frequency to x GHz and run 3D-ICE again\n",
    "5. Plot the temperature trace\n",
    "6. Check if the temperature is within the safe range"
   ]
  },
  {
   "attachments": {},
   "cell_type": "markdown",
   "metadata": {},
   "source": [
    "## Thermal policy for 3D MPSoC\n"
   ]
  },
  {
   "attachments": {},
   "cell_type": "markdown",
   "metadata": {},
   "source": [
    "1. Enable all of the cores and run 3D-ICE with given power trace @ x GHz\n",
    "2. Plot the temperature trace\n",
    "3. Check if the temperature is within the safe range\n",
    "4. Disable some of the cores and run 3D-ICE again\n",
    "5. Plot the temperature trace\n",
    "6. Check if the temperature is within the safe range"
   ]
  }
 ],
 "metadata": {
  "kernelspec": {
   "display_name": "base",
   "language": "python",
   "name": "python3"
  },
  "language_info": {
   "codemirror_mode": {
    "name": "ipython",
    "version": 3
   },
   "file_extension": ".py",
   "mimetype": "text/x-python",
   "name": "python",
   "nbconvert_exporter": "python",
   "pygments_lexer": "ipython3",
   "version": "3.9.12"
  },
  "orig_nbformat": 4
 },
 "nbformat": 4,
 "nbformat_minor": 2
}
